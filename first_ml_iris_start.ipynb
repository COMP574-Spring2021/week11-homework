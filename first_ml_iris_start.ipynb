{
 "metadata": {
  "language_info": {
   "codemirror_mode": {
    "name": "ipython",
    "version": 3
   },
   "file_extension": ".py",
   "mimetype": "text/x-python",
   "name": "python",
   "nbconvert_exporter": "python",
   "pygments_lexer": "ipython3",
   "version": "3.8.3-final"
  },
  "orig_nbformat": 2,
  "kernelspec": {
   "name": "python38364bitanaconda3condae4b46212289f43d1a5c25550b9f3d802",
   "display_name": "Python 3.8.3 64-bit (conda)"
  },
  "metadata": {
   "interpreter": {
    "hash": "e134e05457d34029b6460cd73bbf1ed73f339b5b6d98c95be70b69eba114fe95"
   }
  }
 },
 "nbformat": 4,
 "nbformat_minor": 2,
 "cells": [
  {
   "cell_type": "code",
   "execution_count": 1,
   "metadata": {},
   "outputs": [],
   "source": [
    "import numpy as np\n",
    "import pandas as pd\n",
    "import seaborn as sns\n",
    "import matplotlib.pyplot as plt"
   ]
  },
  {
   "source": [
    "__STEP 1__: load the data"
   ],
   "cell_type": "markdown",
   "metadata": {}
  },
  {
   "cell_type": "code",
   "execution_count": 2,
   "metadata": {},
   "outputs": [],
   "source": [
    "df = pd.read_csv('./iris.csv', names=[\"SepalLength\", \"SepalWidth\", \"PetalLength\", \"PetalWidth\", \"Species\"])"
   ]
  },
  {
   "source": [
    "__STEP 2__: clean the data and do some Exploratory Data Analysis"
   ],
   "cell_type": "markdown",
   "metadata": {}
  },
  {
   "source": [
    "__STEP 3__: prepare training set and test set"
   ],
   "cell_type": "markdown",
   "metadata": {}
  },
  {
   "source": [
    "__STEP 4__: Choose a model, and set the hyperparameters"
   ],
   "cell_type": "markdown",
   "metadata": {}
  },
  {
   "source": [
    "__STEP 5__: Train the model with the training data"
   ],
   "cell_type": "markdown",
   "metadata": {}
  },
  {
   "source": [
    "__STEP 6__: Evaluate the model with the test data"
   ],
   "cell_type": "markdown",
   "metadata": {}
  }
 ]
}